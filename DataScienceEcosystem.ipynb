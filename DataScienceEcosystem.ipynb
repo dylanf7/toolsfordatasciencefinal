{
 "cells": [
  {
   "cell_type": "markdown",
   "id": "0ae3d8a5-098b-49ba-ab14-c612acfe5210",
   "metadata": {},
   "source": [
    "# Data Science Tools and Ecosystem"
   ]
  },
  {
   "cell_type": "markdown",
   "id": "74f8e49a-1b5e-4fa5-9399-0a9bad4a7366",
   "metadata": {},
   "source": [
    "In this notebook, Data Science tools and the ecosystem are summarized."
   ]
  },
  {
   "cell_type": "markdown",
   "id": "a6f888ab-081a-47e9-a2c8-53ec6e86e52d",
   "metadata": {},
   "source": [
    "**Objectives:**\n",
    "- List popular languages for data science.\n",
    "- List commonly used libraries for data science.\n",
    "- List popular open-source development environments for data science.\n",
    "- Demonstrate arithmetic computations using Python."
   ]
  },
  {
   "cell_type": "markdown",
   "id": "8fdc0775-2e9f-4904-9e76-3cd438a32963",
   "metadata": {},
   "source": [
    "Some of the popular languages used by data scientists are:\n",
    "1. Python\n",
    "2. R\n",
    "3. SQL"
   ]
  },
  {
   "cell_type": "markdown",
   "id": "a2325496-a128-4563-94e5-c8b7b4380a2a",
   "metadata": {},
   "source": [
    "Some of the libraries commonly used by data scientists are:\n",
    "1. pandas\n",
    "2. NumPy\n",
    "3. ggplot2"
   ]
  },
  {
   "cell_type": "markdown",
   "id": "7dadbaa1-190f-470f-87e5-5f9e10f676b1",
   "metadata": {},
   "source": [
    "| Data Science Tools |\n",
    "| ----- |\n",
    "| Jupyter |\n",
    "| RStudio |\n",
    "| Spyder |"
   ]
  },
  {
   "cell_type": "markdown",
   "id": "51c619ed-070f-489e-aa04-91bd67922fc2",
   "metadata": {},
   "source": [
    "### Below are a few evaluations of arithmetic expressions using Python."
   ]
  },
  {
   "cell_type": "code",
   "execution_count": 2,
   "id": "e6bcb84d-2d50-496d-b084-cb3e509a8f7f",
   "metadata": {},
   "outputs": [
    {
     "data": {
      "text/plain": [
       "17"
      ]
     },
     "execution_count": 2,
     "metadata": {},
     "output_type": "execute_result"
    }
   ],
   "source": [
    "# This is an expression to multiply, then add integers.\n",
    "(3*4)+5"
   ]
  },
  {
   "cell_type": "code",
   "execution_count": 6,
   "id": "cd4a19f1-8a75-4c30-a550-112f8461f737",
   "metadata": {},
   "outputs": [
    {
     "data": {
      "text/plain": [
       "3.3333333333333335"
      ]
     },
     "execution_count": 6,
     "metadata": {},
     "output_type": "execute_result"
    }
   ],
   "source": [
    "# This expression will convert 200 minutes to hours by dividing by 60.\n",
    "200/60"
   ]
  },
  {
   "cell_type": "code",
   "execution_count": null,
   "id": "77205705-d8b1-4e15-8b7b-da4d0f597303",
   "metadata": {},
   "outputs": [],
   "source": []
  }
 ],
 "metadata": {
  "kernelspec": {
   "display_name": "Python 3 (ipykernel)",
   "language": "python",
   "name": "python3"
  },
  "language_info": {
   "codemirror_mode": {
    "name": "ipython",
    "version": 3
   },
   "file_extension": ".py",
   "mimetype": "text/x-python",
   "name": "python",
   "nbconvert_exporter": "python",
   "pygments_lexer": "ipython3",
   "version": "3.11.5"
  }
 },
 "nbformat": 4,
 "nbformat_minor": 5
}
